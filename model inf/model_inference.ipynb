{
 "cells": [
  {
   "cell_type": "code",
   "execution_count": 2,
   "metadata": {},
   "outputs": [],
   "source": [
    "import pickle\n",
    "import pandas as pd\n",
    "import pickle\n",
    "import numpy as np\n",
    "\n"
   ]
  },
  {
   "cell_type": "code",
   "execution_count": null,
   "metadata": {},
   "outputs": [],
   "source": [
    "with open('best_pipeline_model.pkl', 'rb') as file1:\n",
    "    best_model = pickle.load(file1)"
   ]
  },
  {
   "cell_type": "code",
   "execution_count": 4,
   "metadata": {},
   "outputs": [],
   "source": [
    "data= {\n",
    "'Employee ID' :[65791],\n",
    "'Age' :[36],\n",
    "'Gender' :['Female'],\n",
    "'Years at Company':[7],\n",
    "'Job Role' :['Education'],\n",
    "'Monthly Income' :[3989],\n",
    "'Work-Life Balance' :['Good'],\n",
    "'Job Satisfaction' :['High'],\n",
    "'Performance Rating' :['High'],\n",
    "'Number of Promotions' :[1],\n",
    "'Overtime' : ['No'],\n",
    "'Distance from Home' :[27],\n",
    "'Education Level' : ['High School'],\n",
    "'Marital Status'  : ['Single'],\n",
    "'Number of Dependents' :[2],\n",
    "'Job Level' :['Mid'],\n",
    "'Company Size' :['Small'],\n",
    "'Company Tenure' : [50],\n",
    "'Remote Work' : ['Yes'],\n",
    "'Leadership Opportunities': ['No'],\n",
    "'Innovation Opportunities' :['No'],\n",
    "'Company Reputation' :['Good'],\n",
    "'Employee Recognition' :['Medium'],\n",
    "'Attrition' :[0]}"
   ]
  },
  {
   "cell_type": "code",
   "execution_count": 6,
   "metadata": {},
   "outputs": [
    {
     "name": "stdout",
     "output_type": "stream",
     "text": [
      "[0]\n"
     ]
    }
   ],
   "source": [
    "\n",
    "# Konversi dictionary menjadi DataFrame\n",
    "df_data = pd.DataFrame(data)\n",
    "\n",
    "# Jalankan model untuk prediksi\n",
    "y_pred = best_model.predict(df_data)\n",
    "\n",
    "# Hasil prediksi\n",
    "print(y_pred)\n"
   ]
  },
  {
   "cell_type": "markdown",
   "metadata": {},
   "source": [
    "dengan data acak yang dimasukan pada model yang sudah dibuat dapat disimpulkan bahwa karyawan tersebut akan stay atau tinggal di perusahaan tersebut"
   ]
  }
 ],
 "metadata": {
  "kernelspec": {
   "display_name": "base",
   "language": "python",
   "name": "python3"
  },
  "language_info": {
   "codemirror_mode": {
    "name": "ipython",
    "version": 3
   },
   "file_extension": ".py",
   "mimetype": "text/x-python",
   "name": "python",
   "nbconvert_exporter": "python",
   "pygments_lexer": "ipython3",
   "version": "3.12.4"
  }
 },
 "nbformat": 4,
 "nbformat_minor": 2
}
